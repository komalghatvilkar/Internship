{
 "cells": [
  {
   "cell_type": "code",
   "execution_count": 28,
   "id": "091c4685",
   "metadata": {},
   "outputs": [],
   "source": [
    "# Q11 to Q15 are programming questions. Answer them in Jupyter Notebook.  \n",
    "\n",
    "# 11. Write a python program to find the factorial of a number.  \n",
    "\n",
    "# 12. Write a python program to find whether a number is prime or composite.\n",
    "\n",
    "# 13. Write a python program to check whether a given string is palindrome or not.  \n",
    "\n",
    "# 14. Write a Python program to get the third side of right-angled triangle from two given sides.  \n",
    "\n",
    "# 15. Write a python program to print the frequency of each of the characters present in a given string. "
   ]
  },
  {
   "cell_type": "code",
   "execution_count": 30,
   "id": "593730a2",
   "metadata": {},
   "outputs": [
    {
     "name": "stdout",
     "output_type": "stream",
     "text": [
      "Enter a number: 6\n",
      "The factorial of 6 is 720\n"
     ]
    }
   ],
   "source": [
    "# 11. Write a python program to find the factorial of a number: Answer - \n",
    "# The factorial of a number is the product of all the integers from 1 to that number. \n",
    "# For example, the factorial of 6 is 1*2*3*4*5*6 = 720. \n",
    "# Factorial is not defined for negative numbers, and the factorial of zero is one, 0! = 1.\n",
    "# Method 1:\n",
    "num = int(input(\"Enter a number: \"))    \n",
    "factorial = 1    \n",
    "if num < 0:    \n",
    "   print(\"Factorial does not exist for negative numbers\")    \n",
    "elif num == 0:    \n",
    "   print(\"The factorial of 0 is 1\")    \n",
    "else:    \n",
    "   for i in range(1,num + 1):    \n",
    "       factorial = factorial*i    \n",
    "   print(\"The factorial of\",num,\"is\",factorial)"
   ]
  },
  {
   "cell_type": "code",
   "execution_count": 9,
   "id": "f8d034b3",
   "metadata": {},
   "outputs": [
    {
     "name": "stdout",
     "output_type": "stream",
     "text": [
      "Enter the number:8\n",
      "Factorial of 8 is 40320\n"
     ]
    }
   ],
   "source": [
    "# 11. find the factorial of a number Using built-in function:\n",
    "# We will use the math module, which provides the built-in factorial() method.\n",
    "# # Method 2:\n",
    "import math  \n",
    "def fact(n):  \n",
    "    return(math.factorial(n))  \n",
    "  \n",
    "num = int(input(\"Enter the number:\"))  \n",
    "f = fact(num)  \n",
    "print(\"Factorial of\", num, \"is\", f)\n"
   ]
  },
  {
   "cell_type": "code",
   "execution_count": 10,
   "id": "5b2ac66b",
   "metadata": {},
   "outputs": [
    {
     "name": "stdout",
     "output_type": "stream",
     "text": [
      "Factorial of 8 is\n"
     ]
    },
    {
     "data": {
      "text/plain": [
       "40320"
      ]
     },
     "execution_count": 10,
     "metadata": {},
     "output_type": "execute_result"
    }
   ],
   "source": [
    "# 11. find the factorial of a number Using Recursion:\n",
    "# Python recursion is a method which calls itself.\n",
    "# In the below code, we have used the recursion to find the factorial of a given number. \n",
    "# We have defined the fact(num) function, which returns one if the entered value is 1 or 0 otherwise until we get the factorial of a given number.\n",
    "# Method 3:\n",
    "def fact(n):  \n",
    "    return 1 if (n==1 or n==0) else n * fact(n - 1);  \n",
    "  \n",
    "num = 8  \n",
    "print(\"Factorial of\",num,\"is\",)  \n",
    "fact(num)"
   ]
  },
  {
   "cell_type": "code",
   "execution_count": 11,
   "id": "5a54f1b9",
   "metadata": {},
   "outputs": [
    {
     "name": "stdout",
     "output_type": "stream",
     "text": [
      "Enter a number: 2\n",
      "2 is a prime number\n"
     ]
    }
   ],
   "source": [
    "# 12. Write a python program to find whether a number is prime or composite: Answer - \n",
    "# Using a for...else statement\n",
    "# Here, we have used a for..else statement to check if num is prime.\n",
    "# It works on the logic that the else clause of the for loop runs if and only if we don't break out the for loop. That condition is met only when no factors are found, which means that the given number is prime.\n",
    "# So, in the else clause, we print that the number is prime.\n",
    "# Method 1:\n",
    "num = int(input(\"Enter a number: \"))\n",
    "if num > 1:\n",
    "   for i in range(2,num):\n",
    "       if (num % i) == 0:\n",
    "           print(num,\"is not a prime number\")\n",
    "           print(i,\"times\",num//i,\"is\",num)\n",
    "           break\n",
    "   else:\n",
    "       print(num,\"is a prime number\")\n",
    "       \n",
    "# if input number is less than\n",
    "# or equal to 1, it is not prime\n",
    "else:\n",
    "   print(num,\"is not a prime number\")"
   ]
  },
  {
   "cell_type": "code",
   "execution_count": 12,
   "id": "2e020e36",
   "metadata": {},
   "outputs": [
    {
     "name": "stdout",
     "output_type": "stream",
     "text": [
      "Enter a number: 7\n",
      "7 is a prime number\n"
     ]
    }
   ],
   "source": [
    "# 12. Find whether a number is prime or composite Using a flag variable:\n",
    "# In this program, we have checked if num is prime or not. Numbers less than or equal to 1 are not prime numbers. Hence, we only proceed if the num is greater than 1.\n",
    "# We check if num is exactly divisible by any number from 2 to num - 1. If we find a factor in that range, the number is not prime, so we set flag to True and break out of the loop.\n",
    "# Outside the loop, we check if flag is True or False.\n",
    "# If it is True, num is not a prime number.\n",
    "# If it is False, num is a prime number.\n",
    "# Note: We can improve our program by decreasing the range of numbers where we look for factors.\n",
    "# In the above program, our search range is from 2 to num - 1.\n",
    "# We could have used the range, range(2,num//2) or range(2,math.floor(math.sqrt(num)+1)). The latter range is based on the fact that a composite number must have a factor less than or equal to the square root of that number. Otherwise, the number is prime.\n",
    "# You can change the value of variable num in the above source code to check whether a number is prime or not for other integers.\n",
    "# In Python, we can also use the for...else statement to do this task without using an additional flag variable.\n",
    "# Method 2:\n",
    "num = int(input(\"Enter a number: \"))\n",
    "flag = False\n",
    "if num > 1:\n",
    "    for i in range(2, num):\n",
    "        if (num % i) == 0:\n",
    "            flag = True\n",
    "            break\n",
    "if flag:\n",
    "    print(num, \"is not a prime number\")\n",
    "else:\n",
    "    print(num, \"is a prime number\")"
   ]
  },
  {
   "cell_type": "code",
   "execution_count": 13,
   "id": "0b8df2eb",
   "metadata": {},
   "outputs": [
    {
     "name": "stdout",
     "output_type": "stream",
     "text": [
      "Yes\n"
     ]
    }
   ],
   "source": [
    "# 13. Write a python program to check whether a given string is palindrome or not: Answer - \n",
    "# Find reverse of string\n",
    "# Check if reverse and original are same or not.\n",
    "# Method 1:\n",
    "def isPalindrome(s):\n",
    "    return s == s[::-1]\n",
    "s = \"malayalam\"\n",
    "ans = isPalindrome(s)\n",
    " \n",
    "if ans:\n",
    "    print(\"Yes\")\n",
    "else:\n",
    "    print(\"No\")"
   ]
  },
  {
   "cell_type": "code",
   "execution_count": 14,
   "id": "bb2c7416",
   "metadata": {},
   "outputs": [
    {
     "name": "stdout",
     "output_type": "stream",
     "text": [
      "Yes\n"
     ]
    }
   ],
   "source": [
    "# Check whether a given string is palindrome or not Using Iterative Method: \n",
    "# Run a loop from starting to length/2 and check the first character to the last character of the string and second to second last one and so on. \n",
    "# If any character mismatches, the string wouldn’t be a palindrome.\n",
    "# Method 2:\n",
    "def isPalindrome(str):\n",
    "    for i in range(0, int(len(str)/2)):\n",
    "        if str[i] != str[len(str)-i-1]:\n",
    "            return False\n",
    "    return True\n",
    "s = \"malayalam\"\n",
    "ans = isPalindrome(s)\n",
    " \n",
    "if (ans):\n",
    "    print(\"Yes\")\n",
    "else:\n",
    "    print(\"No\")"
   ]
  },
  {
   "cell_type": "code",
   "execution_count": 16,
   "id": "de33ca90",
   "metadata": {},
   "outputs": [
    {
     "name": "stdout",
     "output_type": "stream",
     "text": [
      "Yes\n"
     ]
    }
   ],
   "source": [
    "# Check whether a given string is palindrome or not Using the inbuilt function to reverse a string:\n",
    "# In this method, predefined function ‘ ‘.join(reversed(string)) is used to reverse string.\n",
    "# Method 3:\n",
    "def isPalindrome(s):\n",
    "    rev = ''.join(reversed(s))\n",
    "    if (s == rev):\n",
    "        return True\n",
    "    return False\n",
    "s = \"malayalam\"\n",
    "ans = isPalindrome(s)\n",
    " \n",
    "if (ans):\n",
    "    print(\"Yes\")\n",
    "else:\n",
    "    print(\"No\")"
   ]
  },
  {
   "cell_type": "code",
   "execution_count": 18,
   "id": "27439252",
   "metadata": {},
   "outputs": [
    {
     "name": "stdout",
     "output_type": "stream",
     "text": [
      "Yes\n"
     ]
    }
   ],
   "source": [
    "# Check whether a given string is palindrome or not Using one extra variable: \n",
    "# In this method user take a character of string one by one and store in an empty variable. \n",
    "# After storing all the character user will compare both the string and check whether it is palindrome or not.\n",
    "# Method 4:\n",
    "x = \"malayalam\"\n",
    " \n",
    "w = \"\"\n",
    "for i in x:\n",
    "    w = i + w\n",
    " \n",
    "if (x == w):\n",
    "    print(\"Yes\")\n",
    "else:\n",
    "    print(\"No\")\n"
   ]
  },
  {
   "cell_type": "code",
   "execution_count": 19,
   "id": "40ad4281",
   "metadata": {},
   "outputs": [
    {
     "name": "stdout",
     "output_type": "stream",
     "text": [
      "Yes\n"
     ]
    }
   ],
   "source": [
    "# Check whether a given string is palindrome or not Using flag: \n",
    "# In this method user compare each character from starting and ending in a for loop and if the character does not match then it will change the status of the flag. \n",
    "# Then it will check the status of flag and accordingly and print whether it is a palindrome or not.\n",
    "# Method 5:\n",
    "st = 'malayalam'\n",
    "j = -1\n",
    "flag = 0\n",
    "for i in st:\n",
    "    if i != st[j]:\n",
    "      j = j - 1\n",
    "      flag = 1\n",
    "      break\n",
    "    j = j - 1\n",
    "if flag == 1:\n",
    "    print(\"NO\")\n",
    "else:\n",
    "    print(\"Yes\")"
   ]
  },
  {
   "cell_type": "code",
   "execution_count": 20,
   "id": "53fb0a07",
   "metadata": {},
   "outputs": [
    {
     "name": "stdout",
     "output_type": "stream",
     "text": [
      "Yes\n"
     ]
    }
   ],
   "source": [
    "# Check whether a given string is palindrome or not Using recursion:\n",
    "# This method compares the first and the last element of the string and gives the rest of the substring to a recursive call to itself.\n",
    "# Method 6:\n",
    "def isPalindrome(s):\n",
    "       \n",
    "    #to change it the string is similar case\n",
    "    s = s.lower()\n",
    "    # length of s\n",
    "    l = len(s)\n",
    "     \n",
    "    # if length is less than 2\n",
    "    if l < 2:\n",
    "        return True\n",
    " \n",
    "    # If s[0] and s[l-1] are equal\n",
    "    elif s[0] == s[l - 1]:\n",
    "        \n",
    "        # Call is pallindrome form substring(1,l-1)\n",
    "        return isPalindrome(s[1: l - 1])\n",
    " \n",
    "    else:\n",
    "        return False\n",
    " \n",
    "# Driver Code\n",
    "s = \"MalaYaLam\"\n",
    "ans = isPalindrome(s)\n",
    " \n",
    "if ans:\n",
    "    print(\"Yes\")\n",
    " \n",
    "else:\n",
    "    print(\"No\")"
   ]
  },
  {
   "cell_type": "code",
   "execution_count": 21,
   "id": "7ae43ad8",
   "metadata": {},
   "outputs": [
    {
     "name": "stdout",
     "output_type": "stream",
     "text": [
      "Hypotenuse = 5.0\n",
      "Adjacent = 4.0\n",
      "Opposite = 3.0\n",
      "Got the answer!\n"
     ]
    }
   ],
   "source": [
    "# 14. Write a Python program to get the third side of right-angled triangle from two given sides: Answer -\n",
    "def pythagoras(opposite_side,adjacent_side,hypotenuse):\n",
    "        if opposite_side == str(\"x\"):\n",
    "            return (\"Opposite = \" + str(((hypotenuse**2) - (adjacent_side**2))**0.5))\n",
    "        elif adjacent_side == str(\"x\"):\n",
    "            return (\"Adjacent = \" + str(((hypotenuse**2) - (opposite_side**2))**0.5))\n",
    "        elif hypotenuse == str(\"x\"):\n",
    "            return (\"Hypotenuse = \" + str(((opposite_side**2) + (adjacent_side**2))**0.5))\n",
    "        else:\n",
    "            return \"Got the answer!\"\n",
    "    \n",
    "print(pythagoras(3,4,'x'))\n",
    "print(pythagoras(3,'x',5))\n",
    "print(pythagoras('x',4,5))\n",
    "print(pythagoras(3,4,5))"
   ]
  },
  {
   "cell_type": "code",
   "execution_count": 22,
   "id": "51169a94",
   "metadata": {},
   "outputs": [
    {
     "name": "stdout",
     "output_type": "stream",
     "text": [
      "Count of all characters in GeeksforGeeks is :\n",
      " {'G': 2, 'e': 4, 'k': 2, 's': 2, 'f': 1, 'o': 1, 'r': 1}\n"
     ]
    }
   ],
   "source": [
    "# 15. Write a python program to print the frequency of each of the characters present in a given string: Answer - \n",
    "# Naive method\n",
    "# Simply iterate through the string and form a key in dictionary of newly occurred element \n",
    "# or if element is already occurred, increase its value by 1.\n",
    "# Method 1:\n",
    "test_str = \"GeeksforGeeks\"\n",
    "all_freq = {}\n",
    "for i in test_str:\n",
    "    if i in all_freq:\n",
    "        all_freq[i] += 1\n",
    "    else:\n",
    "        all_freq[i] = 1\n",
    "print (\"Count of all characters in GeeksforGeeks is :\\n \"\n",
    "                                        +  str(all_freq))"
   ]
  },
  {
   "cell_type": "code",
   "execution_count": 23,
   "id": "7b8a512f",
   "metadata": {},
   "outputs": [
    {
     "name": "stdout",
     "output_type": "stream",
     "text": [
      "Count of all characters in GeeksforGeeks is :\n",
      " Counter({'e': 4, 'G': 2, 'k': 2, 's': 2, 'f': 1, 'o': 1, 'r': 1})\n"
     ]
    }
   ],
   "source": [
    "# Print the frequency of each of the characters present in a given string Using collections.Counter():\n",
    "# The most suggested method that could be used to find all occurrences is this method, \n",
    "# this actually gets all element frequency and could also be used to print single element frequency if required.\n",
    "# Method 2:\n",
    "from collections import Counter\n",
    "test_str = \"GeeksforGeeks\"\n",
    "res = Counter(test_str)\n",
    "print (\"Count of all characters in GeeksforGeeks is :\\n \"\n",
    "                                           +  str(res))"
   ]
  },
  {
   "cell_type": "code",
   "execution_count": 26,
   "id": "e2cfbaab",
   "metadata": {},
   "outputs": [
    {
     "name": "stdout",
     "output_type": "stream",
     "text": [
      "Count of all characters in GeeksforGeeks is : \n",
      "{'G': 2, 'e': 4, 'k': 2, 's': 2, 'f': 1, 'o': 1, 'r': 1}\n"
     ]
    }
   ],
   "source": [
    "# Print the frequency of each of the characters present in a given string Using dict.get():\n",
    "# get() method is used to check the previously occurring character in string, \n",
    "# if its new, it assigns 0 as initial and appends 1 to it, \n",
    "# else appends 1 to previously holded value of that element in dictionary.\n",
    "# Method 3:\n",
    "test_str = \"GeeksforGeeks\"\n",
    "res = {}\n",
    "for keys in test_str:\n",
    "    res[keys] = res.get(keys, 0) + 1\n",
    "print (\"Count of all characters in GeeksforGeeks is : \\n\"\n",
    "                                             +  str(res))"
   ]
  },
  {
   "cell_type": "code",
   "execution_count": 27,
   "id": "2bb0ea98",
   "metadata": {},
   "outputs": [
    {
     "name": "stdout",
     "output_type": "stream",
     "text": [
      "The count of all characters in GeeksforGeeks is :\n",
      " {'k': 2, 's': 2, 'e': 4, 'G': 2, 'f': 1, 'r': 1, 'o': 1}\n"
     ]
    }
   ],
   "source": [
    "# Print the frequency of each of the characters present in a given string Using set() + count():\n",
    "# count() coupled with set() can also achieve this task, \n",
    "# in this we just iterate over the set converted string and get the count of each character in original string \n",
    "# and assign that element \n",
    "# with that value counted using count().\n",
    "# Method 4:\n",
    "test_str = \"GeeksforGeeks\" \n",
    "res = {i : test_str.count(i) for i in set(test_str)} \n",
    "print (\"The count of all characters in GeeksforGeeks is :\\n \"\n",
    "                                               +  str(res))"
   ]
  },
  {
   "cell_type": "code",
   "execution_count": null,
   "id": "8c9d4d52",
   "metadata": {},
   "outputs": [],
   "source": []
  }
 ],
 "metadata": {
  "kernelspec": {
   "display_name": "Python 3",
   "language": "python",
   "name": "python3"
  },
  "language_info": {
   "codemirror_mode": {
    "name": "ipython",
    "version": 3
   },
   "file_extension": ".py",
   "mimetype": "text/x-python",
   "name": "python",
   "nbconvert_exporter": "python",
   "pygments_lexer": "ipython3",
   "version": "3.8.8"
  }
 },
 "nbformat": 4,
 "nbformat_minor": 5
}
